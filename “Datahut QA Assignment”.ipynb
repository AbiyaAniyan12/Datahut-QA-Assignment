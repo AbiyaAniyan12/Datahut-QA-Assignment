{
 "cells": [
  {
   "cell_type": "markdown",
   "metadata": {},
   "source": [
    "### Assignment for Data QA & QC Internship @ Datahut"
   ]
  },
  {
   "cell_type": "code",
   "execution_count": 626,
   "metadata": {},
   "outputs": [],
   "source": [
    "# Import Libraries\n",
    "import pandas as pd\n",
    "import numpy as np\n",
    "import matplotlib.pyplot as plt\n",
    "\n",
    "import re"
   ]
  },
  {
   "cell_type": "code",
   "execution_count": 627,
   "metadata": {},
   "outputs": [
    {
     "data": {
      "text/html": [
       "<div>\n",
       "<style scoped>\n",
       "    .dataframe tbody tr th:only-of-type {\n",
       "        vertical-align: middle;\n",
       "    }\n",
       "\n",
       "    .dataframe tbody tr th {\n",
       "        vertical-align: top;\n",
       "    }\n",
       "\n",
       "    .dataframe thead th {\n",
       "        text-align: right;\n",
       "    }\n",
       "</style>\n",
       "<table border=\"1\" class=\"dataframe\">\n",
       "  <thead>\n",
       "    <tr style=\"text-align: right;\">\n",
       "      <th></th>\n",
       "      <th>Unnamed: 0</th>\n",
       "      <th>ID</th>\n",
       "      <th>Name</th>\n",
       "      <th>Age</th>\n",
       "      <th>Email</th>\n",
       "      <th>Join Date</th>\n",
       "      <th>Salary</th>\n",
       "      <th>Department</th>\n",
       "    </tr>\n",
       "  </thead>\n",
       "  <tbody>\n",
       "    <tr>\n",
       "      <th>0</th>\n",
       "      <td>0</td>\n",
       "      <td>1e407ff9-6255-489d-a0de-34135d4f74bd</td>\n",
       "      <td>Hunter Thomas</td>\n",
       "      <td>25.0</td>\n",
       "      <td>xlopez@hotmail.com</td>\n",
       "      <td>NaN</td>\n",
       "      <td>88552.000000</td>\n",
       "      <td>Sales</td>\n",
       "    </tr>\n",
       "    <tr>\n",
       "      <th>1</th>\n",
       "      <td>1</td>\n",
       "      <td>379f55b8-87d5-4739-a146-7400b78c24d1</td>\n",
       "      <td>Jeremy Irwin</td>\n",
       "      <td>90.0</td>\n",
       "      <td>Jillian Jenkins</td>\n",
       "      <td>2022-07-07</td>\n",
       "      <td>139227.000000</td>\n",
       "      <td>NaN</td>\n",
       "    </tr>\n",
       "    <tr>\n",
       "      <th>2</th>\n",
       "      <td>2</td>\n",
       "      <td>18261368-dfa1-47f0-afc6-bddf45926b07</td>\n",
       "      <td>Jennifer Hammondquickly</td>\n",
       "      <td>66.0</td>\n",
       "      <td>jscottgreen.biz</td>\n",
       "      <td>2023-11-21</td>\n",
       "      <td>65550.000000</td>\n",
       "      <td>Engineering</td>\n",
       "    </tr>\n",
       "    <tr>\n",
       "      <th>3</th>\n",
       "      <td>3</td>\n",
       "      <td>ae7cf7cf-17cf-4c8b-9c44-4f61a9a238e5</td>\n",
       "      <td>Sydney Taylorso</td>\n",
       "      <td>39.0</td>\n",
       "      <td>luke56gonzalez.com</td>\n",
       "      <td>2021-11-05</td>\n",
       "      <td>139932.000000</td>\n",
       "      <td>SupportJ</td>\n",
       "    </tr>\n",
       "    <tr>\n",
       "      <th>4</th>\n",
       "      <td>4</td>\n",
       "      <td>14ed3e6a-e0f5-4bbe-8d93-8665267f5c90</td>\n",
       "      <td>Julia Lee</td>\n",
       "      <td>71.0</td>\n",
       "      <td>figueroakayla@yahoo.com</td>\n",
       "      <td>NaN</td>\n",
       "      <td>143456.000000</td>\n",
       "      <td>Marketing</td>\n",
       "    </tr>\n",
       "    <tr>\n",
       "      <th>5</th>\n",
       "      <td>5</td>\n",
       "      <td>f92ea13f-24d3-4792-91e4-5b0e07d90c2c</td>\n",
       "      <td>Lisa Bailey</td>\n",
       "      <td>81.0</td>\n",
       "      <td>milleryvonne@fowler-york.com</td>\n",
       "      <td>15/10/2016</td>\n",
       "      <td>123018.000000</td>\n",
       "      <td>SupportE</td>\n",
       "    </tr>\n",
       "    <tr>\n",
       "      <th>6</th>\n",
       "      <td>6</td>\n",
       "      <td>c4892dbb-2554-4ce1-8f11-f6597d7f6782</td>\n",
       "      <td>Patricia Brown DVM</td>\n",
       "      <td>66.0</td>\n",
       "      <td>pperkinshotmail.com</td>\n",
       "      <td>17/09/2020</td>\n",
       "      <td>77311.000000</td>\n",
       "      <td>HR</td>\n",
       "    </tr>\n",
       "    <tr>\n",
       "      <th>7</th>\n",
       "      <td>7</td>\n",
       "      <td>465e625b-f924-4061-8356-c7e3130f7118</td>\n",
       "      <td>Derek Murphy</td>\n",
       "      <td>38.0</td>\n",
       "      <td>josephrobertsongmail.com</td>\n",
       "      <td>2021-01-12</td>\n",
       "      <td>NaN</td>\n",
       "      <td>Support</td>\n",
       "    </tr>\n",
       "    <tr>\n",
       "      <th>8</th>\n",
       "      <td>8</td>\n",
       "      <td>12cc2f16-d641-402e-b22b-3332bafc4f1d</td>\n",
       "      <td>NaN</td>\n",
       "      <td>71.0</td>\n",
       "      <td>andrew74@hotmail.com</td>\n",
       "      <td>2022-02-12</td>\n",
       "      <td>83354.000000</td>\n",
       "      <td>Sales</td>\n",
       "    </tr>\n",
       "    <tr>\n",
       "      <th>9</th>\n",
       "      <td>9</td>\n",
       "      <td>d06f507d-62e5-4bd6-a252-4e60e109d324</td>\n",
       "      <td>Jay Fisher</td>\n",
       "      <td>44.0</td>\n",
       "      <td>denisemaynard@jordan.com</td>\n",
       "      <td>2022-12-08</td>\n",
       "      <td>37701.725993</td>\n",
       "      <td>HR</td>\n",
       "    </tr>\n",
       "    <tr>\n",
       "      <th>10</th>\n",
       "      <td>10</td>\n",
       "      <td>d5fe9321-49cf-4f14-ac96-7aea1204247b</td>\n",
       "      <td>Craig Conway</td>\n",
       "      <td>88.0</td>\n",
       "      <td>gerald47@woodard-smith.com</td>\n",
       "      <td>NaN</td>\n",
       "      <td>81214.525972</td>\n",
       "      <td>Engineering</td>\n",
       "    </tr>\n",
       "    <tr>\n",
       "      <th>11</th>\n",
       "      <td>11</td>\n",
       "      <td>21763907-db1a-400a-8464-e3af593c3abc</td>\n",
       "      <td>Raymond Wilson</td>\n",
       "      <td>44.0</td>\n",
       "      <td>katherinewallacehotmail.com</td>\n",
       "      <td>2021-08-26</td>\n",
       "      <td>128335.000000</td>\n",
       "      <td>HRC</td>\n",
       "    </tr>\n",
       "    <tr>\n",
       "      <th>12</th>\n",
       "      <td>12</td>\n",
       "      <td>da63d159-e9b0-4b92-b0fe-4e87df3aebc1</td>\n",
       "      <td>Amber Marsh</td>\n",
       "      <td>23.0</td>\n",
       "      <td>robert43@gmail.com</td>\n",
       "      <td>2023-09-08</td>\n",
       "      <td>112970.000000</td>\n",
       "      <td>Engineering</td>\n",
       "    </tr>\n",
       "    <tr>\n",
       "      <th>13</th>\n",
       "      <td>13</td>\n",
       "      <td>5ca27087-5c90-4d42-94d0-7e9ee3f422b9</td>\n",
       "      <td>Patrick Mooney</td>\n",
       "      <td>57.0</td>\n",
       "      <td>bowersjasmine@hotmail.com</td>\n",
       "      <td>2023-06-24</td>\n",
       "      <td>41511.139646</td>\n",
       "      <td>SalesA</td>\n",
       "    </tr>\n",
       "    <tr>\n",
       "      <th>14</th>\n",
       "      <td>14</td>\n",
       "      <td>9b83a5e5-9516-493f-86f8-d6c445edb501</td>\n",
       "      <td>Nicole Cardenas</td>\n",
       "      <td>60.0</td>\n",
       "      <td>griffinlinda@harrison.com</td>\n",
       "      <td>16/10/2003</td>\n",
       "      <td>51625.814403</td>\n",
       "      <td>Marketing</td>\n",
       "    </tr>\n",
       "    <tr>\n",
       "      <th>15</th>\n",
       "      <td>15</td>\n",
       "      <td>0074dbd5-10d0-463f-9b10-d8473bea04ba</td>\n",
       "      <td>NaN</td>\n",
       "      <td>22.0</td>\n",
       "      <td>ericjohnson@castillo-mendez.net</td>\n",
       "      <td>2023-03-01</td>\n",
       "      <td>NaN</td>\n",
       "      <td>HR</td>\n",
       "    </tr>\n",
       "  </tbody>\n",
       "</table>\n",
       "</div>"
      ],
      "text/plain": [
       "    Unnamed: 0                                    ID                     Name  \\\n",
       "0            0  1e407ff9-6255-489d-a0de-34135d4f74bd            Hunter Thomas   \n",
       "1            1  379f55b8-87d5-4739-a146-7400b78c24d1             Jeremy Irwin   \n",
       "2            2  18261368-dfa1-47f0-afc6-bddf45926b07  Jennifer Hammondquickly   \n",
       "3            3  ae7cf7cf-17cf-4c8b-9c44-4f61a9a238e5          Sydney Taylorso   \n",
       "4            4  14ed3e6a-e0f5-4bbe-8d93-8665267f5c90                Julia Lee   \n",
       "5            5  f92ea13f-24d3-4792-91e4-5b0e07d90c2c              Lisa Bailey   \n",
       "6            6  c4892dbb-2554-4ce1-8f11-f6597d7f6782       Patricia Brown DVM   \n",
       "7            7  465e625b-f924-4061-8356-c7e3130f7118             Derek Murphy   \n",
       "8            8  12cc2f16-d641-402e-b22b-3332bafc4f1d                      NaN   \n",
       "9            9  d06f507d-62e5-4bd6-a252-4e60e109d324               Jay Fisher   \n",
       "10          10  d5fe9321-49cf-4f14-ac96-7aea1204247b             Craig Conway   \n",
       "11          11  21763907-db1a-400a-8464-e3af593c3abc           Raymond Wilson   \n",
       "12          12  da63d159-e9b0-4b92-b0fe-4e87df3aebc1              Amber Marsh   \n",
       "13          13  5ca27087-5c90-4d42-94d0-7e9ee3f422b9           Patrick Mooney   \n",
       "14          14  9b83a5e5-9516-493f-86f8-d6c445edb501          Nicole Cardenas   \n",
       "15          15  0074dbd5-10d0-463f-9b10-d8473bea04ba                      NaN   \n",
       "\n",
       "     Age                            Email   Join Date         Salary  \\\n",
       "0   25.0               xlopez@hotmail.com         NaN   88552.000000   \n",
       "1   90.0                  Jillian Jenkins  2022-07-07  139227.000000   \n",
       "2   66.0                  jscottgreen.biz  2023-11-21   65550.000000   \n",
       "3   39.0               luke56gonzalez.com  2021-11-05  139932.000000   \n",
       "4   71.0          figueroakayla@yahoo.com         NaN  143456.000000   \n",
       "5   81.0     milleryvonne@fowler-york.com  15/10/2016  123018.000000   \n",
       "6   66.0              pperkinshotmail.com  17/09/2020   77311.000000   \n",
       "7   38.0         josephrobertsongmail.com  2021-01-12            NaN   \n",
       "8   71.0             andrew74@hotmail.com  2022-02-12   83354.000000   \n",
       "9   44.0         denisemaynard@jordan.com  2022-12-08   37701.725993   \n",
       "10  88.0       gerald47@woodard-smith.com         NaN   81214.525972   \n",
       "11  44.0      katherinewallacehotmail.com  2021-08-26  128335.000000   \n",
       "12  23.0               robert43@gmail.com  2023-09-08  112970.000000   \n",
       "13  57.0        bowersjasmine@hotmail.com  2023-06-24   41511.139646   \n",
       "14  60.0        griffinlinda@harrison.com  16/10/2003   51625.814403   \n",
       "15  22.0  ericjohnson@castillo-mendez.net  2023-03-01            NaN   \n",
       "\n",
       "     Department  \n",
       "0         Sales  \n",
       "1           NaN  \n",
       "2   Engineering  \n",
       "3      SupportJ  \n",
       "4     Marketing  \n",
       "5      SupportE  \n",
       "6            HR  \n",
       "7       Support  \n",
       "8         Sales  \n",
       "9            HR  \n",
       "10  Engineering  \n",
       "11          HRC  \n",
       "12  Engineering  \n",
       "13       SalesA  \n",
       "14    Marketing  \n",
       "15           HR  "
      ]
     },
     "execution_count": 627,
     "metadata": {},
     "output_type": "execute_result"
    }
   ],
   "source": [
    "# Load the dataset\n",
    "mdf= pd.read_csv(r\"C:\\Users\\Abiya\\Desktop\\Internship\\messy_data.csv\")\n",
    "\n",
    "# Display first few rows\n",
    "mdf.head(16)"
   ]
  },
  {
   "cell_type": "code",
   "execution_count": 628,
   "metadata": {},
   "outputs": [
    {
     "data": {
      "text/plain": [
       "(11000, 8)"
      ]
     },
     "execution_count": 628,
     "metadata": {},
     "output_type": "execute_result"
    }
   ],
   "source": [
    "# Total rows and columns\n",
    "mdf.shape"
   ]
  },
  {
   "cell_type": "markdown",
   "metadata": {},
   "source": [
    "##### Data Cleaning"
   ]
  },
  {
   "cell_type": "code",
   "execution_count": 629,
   "metadata": {},
   "outputs": [
    {
     "name": "stdout",
     "output_type": "stream",
     "text": [
      "<class 'pandas.core.frame.DataFrame'>\n",
      "RangeIndex: 11000 entries, 0 to 10999\n",
      "Data columns (total 8 columns):\n",
      " #   Column      Non-Null Count  Dtype  \n",
      "---  ------      --------------  -----  \n",
      " 0   Unnamed: 0  11000 non-null  int64  \n",
      " 1   ID          11000 non-null  object \n",
      " 2   Name        8667 non-null   object \n",
      " 3   Age         9253 non-null   float64\n",
      " 4   Email       9731 non-null   object \n",
      " 5   Join Date   8808 non-null   object \n",
      " 6   Salary      8761 non-null   float64\n",
      " 7   Department  8745 non-null   object \n",
      "dtypes: float64(2), int64(1), object(5)\n",
      "memory usage: 687.6+ KB\n"
     ]
    }
   ],
   "source": [
    "# Check for data types, null values and column names\n",
    "mdf.info()"
   ]
  },
  {
   "cell_type": "code",
   "execution_count": 630,
   "metadata": {},
   "outputs": [
    {
     "data": {
      "text/html": [
       "<div>\n",
       "<style scoped>\n",
       "    .dataframe tbody tr th:only-of-type {\n",
       "        vertical-align: middle;\n",
       "    }\n",
       "\n",
       "    .dataframe tbody tr th {\n",
       "        vertical-align: top;\n",
       "    }\n",
       "\n",
       "    .dataframe thead th {\n",
       "        text-align: right;\n",
       "    }\n",
       "</style>\n",
       "<table border=\"1\" class=\"dataframe\">\n",
       "  <thead>\n",
       "    <tr style=\"text-align: right;\">\n",
       "      <th></th>\n",
       "      <th>Unnamed: 0</th>\n",
       "      <th>Age</th>\n",
       "      <th>Salary</th>\n",
       "    </tr>\n",
       "  </thead>\n",
       "  <tbody>\n",
       "    <tr>\n",
       "      <th>count</th>\n",
       "      <td>11000.000000</td>\n",
       "      <td>9253.000000</td>\n",
       "      <td>8761.000000</td>\n",
       "    </tr>\n",
       "    <tr>\n",
       "      <th>mean</th>\n",
       "      <td>5012.947818</td>\n",
       "      <td>54.162650</td>\n",
       "      <td>89886.585012</td>\n",
       "    </tr>\n",
       "    <tr>\n",
       "      <th>std</th>\n",
       "      <td>2884.739158</td>\n",
       "      <td>21.072919</td>\n",
       "      <td>34896.320117</td>\n",
       "    </tr>\n",
       "    <tr>\n",
       "      <th>min</th>\n",
       "      <td>0.000000</td>\n",
       "      <td>18.000000</td>\n",
       "      <td>24655.136613</td>\n",
       "    </tr>\n",
       "    <tr>\n",
       "      <th>25%</th>\n",
       "      <td>2509.750000</td>\n",
       "      <td>36.000000</td>\n",
       "      <td>59723.844874</td>\n",
       "    </tr>\n",
       "    <tr>\n",
       "      <th>50%</th>\n",
       "      <td>5024.500000</td>\n",
       "      <td>54.000000</td>\n",
       "      <td>89241.000000</td>\n",
       "    </tr>\n",
       "    <tr>\n",
       "      <th>75%</th>\n",
       "      <td>7510.250000</td>\n",
       "      <td>72.000000</td>\n",
       "      <td>119491.000000</td>\n",
       "    </tr>\n",
       "    <tr>\n",
       "      <th>max</th>\n",
       "      <td>9999.000000</td>\n",
       "      <td>90.000000</td>\n",
       "      <td>176156.206747</td>\n",
       "    </tr>\n",
       "  </tbody>\n",
       "</table>\n",
       "</div>"
      ],
      "text/plain": [
       "         Unnamed: 0          Age         Salary\n",
       "count  11000.000000  9253.000000    8761.000000\n",
       "mean    5012.947818    54.162650   89886.585012\n",
       "std     2884.739158    21.072919   34896.320117\n",
       "min        0.000000    18.000000   24655.136613\n",
       "25%     2509.750000    36.000000   59723.844874\n",
       "50%     5024.500000    54.000000   89241.000000\n",
       "75%     7510.250000    72.000000  119491.000000\n",
       "max     9999.000000    90.000000  176156.206747"
      ]
     },
     "execution_count": 630,
     "metadata": {},
     "output_type": "execute_result"
    }
   ],
   "source": [
    "# Summary Statistics\n",
    "mdf.describe()"
   ]
  },
  {
   "cell_type": "code",
   "execution_count": 631,
   "metadata": {},
   "outputs": [
    {
     "data": {
      "text/plain": [
       "np.int64(291)"
      ]
     },
     "execution_count": 631,
     "metadata": {},
     "output_type": "execute_result"
    }
   ],
   "source": [
    "mdf.duplicated().sum()"
   ]
  },
  {
   "cell_type": "markdown",
   "metadata": {},
   "source": [
    "#### QA Issues:\n",
    "1) Missing values: Check for columns with nulls.\n",
    "2) Duplicate entries,Rename Column,Incorrect datatypes.\n",
    "3) Incorrect email formats.\n",
    "4) Inconsistent department names.\n",
    "5) Unreasonable values in 'Age' and 'Salary'."
   ]
  },
  {
   "cell_type": "markdown",
   "metadata": {},
   "source": [
    "##### 1. Handling Missing values\n"
   ]
  },
  {
   "cell_type": "code",
   "execution_count": 632,
   "metadata": {},
   "outputs": [
    {
     "data": {
      "text/plain": [
       "Unnamed: 0       0\n",
       "ID               0\n",
       "Name          2333\n",
       "Age           1747\n",
       "Email         1269\n",
       "Join Date     2192\n",
       "Salary        2239\n",
       "Department    2255\n",
       "dtype: int64"
      ]
     },
     "execution_count": 632,
     "metadata": {},
     "output_type": "execute_result"
    }
   ],
   "source": [
    "# checking null values\n",
    "mdf.isnull().sum()"
   ]
  },
  {
   "cell_type": "code",
   "execution_count": 633,
   "metadata": {},
   "outputs": [],
   "source": [
    "# Remove rows where the 'Name' column is missing\n",
    "mdf = mdf.dropna(subset=['Name'])"
   ]
  },
  {
   "cell_type": "code",
   "execution_count": 634,
   "metadata": {},
   "outputs": [],
   "source": [
    "# Handle missing values in numerical columns by filling with the mean\n",
    "numeric_columns = mdf.select_dtypes(include=['float64', 'int64']).columns\n",
    "mdf[numeric_columns] = mdf[numeric_columns].apply(lambda x: x.fillna(x.mean()))"
   ]
  },
  {
   "cell_type": "code",
   "execution_count": 635,
   "metadata": {},
   "outputs": [
    {
     "data": {
      "text/html": [
       "<div>\n",
       "<style scoped>\n",
       "    .dataframe tbody tr th:only-of-type {\n",
       "        vertical-align: middle;\n",
       "    }\n",
       "\n",
       "    .dataframe tbody tr th {\n",
       "        vertical-align: top;\n",
       "    }\n",
       "\n",
       "    .dataframe thead th {\n",
       "        text-align: right;\n",
       "    }\n",
       "</style>\n",
       "<table border=\"1\" class=\"dataframe\">\n",
       "  <thead>\n",
       "    <tr style=\"text-align: right;\">\n",
       "      <th></th>\n",
       "      <th>Unnamed: 0</th>\n",
       "      <th>ID</th>\n",
       "      <th>Name</th>\n",
       "      <th>Age</th>\n",
       "      <th>Email</th>\n",
       "      <th>Join Date</th>\n",
       "      <th>Salary</th>\n",
       "      <th>Department</th>\n",
       "    </tr>\n",
       "  </thead>\n",
       "  <tbody>\n",
       "    <tr>\n",
       "      <th>0</th>\n",
       "      <td>0</td>\n",
       "      <td>1e407ff9-6255-489d-a0de-34135d4f74bd</td>\n",
       "      <td>Hunter Thomas</td>\n",
       "      <td>25.0</td>\n",
       "      <td>xlopez@hotmail.com</td>\n",
       "      <td>2022-03-31</td>\n",
       "      <td>88552.0</td>\n",
       "      <td>Sales</td>\n",
       "    </tr>\n",
       "    <tr>\n",
       "      <th>1</th>\n",
       "      <td>1</td>\n",
       "      <td>379f55b8-87d5-4739-a146-7400b78c24d1</td>\n",
       "      <td>Jeremy Irwin</td>\n",
       "      <td>90.0</td>\n",
       "      <td>Jillian Jenkins</td>\n",
       "      <td>2022-07-07</td>\n",
       "      <td>139227.0</td>\n",
       "      <td>Support</td>\n",
       "    </tr>\n",
       "    <tr>\n",
       "      <th>2</th>\n",
       "      <td>2</td>\n",
       "      <td>18261368-dfa1-47f0-afc6-bddf45926b07</td>\n",
       "      <td>Jennifer Hammondquickly</td>\n",
       "      <td>66.0</td>\n",
       "      <td>jscottgreen.biz</td>\n",
       "      <td>2023-11-21</td>\n",
       "      <td>65550.0</td>\n",
       "      <td>Engineering</td>\n",
       "    </tr>\n",
       "    <tr>\n",
       "      <th>3</th>\n",
       "      <td>3</td>\n",
       "      <td>ae7cf7cf-17cf-4c8b-9c44-4f61a9a238e5</td>\n",
       "      <td>Sydney Taylorso</td>\n",
       "      <td>39.0</td>\n",
       "      <td>luke56gonzalez.com</td>\n",
       "      <td>2021-11-05</td>\n",
       "      <td>139932.0</td>\n",
       "      <td>SupportJ</td>\n",
       "    </tr>\n",
       "    <tr>\n",
       "      <th>4</th>\n",
       "      <td>4</td>\n",
       "      <td>14ed3e6a-e0f5-4bbe-8d93-8665267f5c90</td>\n",
       "      <td>Julia Lee</td>\n",
       "      <td>71.0</td>\n",
       "      <td>figueroakayla@yahoo.com</td>\n",
       "      <td>2022-03-31</td>\n",
       "      <td>143456.0</td>\n",
       "      <td>Marketing</td>\n",
       "    </tr>\n",
       "  </tbody>\n",
       "</table>\n",
       "</div>"
      ],
      "text/plain": [
       "   Unnamed: 0                                    ID                     Name  \\\n",
       "0           0  1e407ff9-6255-489d-a0de-34135d4f74bd            Hunter Thomas   \n",
       "1           1  379f55b8-87d5-4739-a146-7400b78c24d1             Jeremy Irwin   \n",
       "2           2  18261368-dfa1-47f0-afc6-bddf45926b07  Jennifer Hammondquickly   \n",
       "3           3  ae7cf7cf-17cf-4c8b-9c44-4f61a9a238e5          Sydney Taylorso   \n",
       "4           4  14ed3e6a-e0f5-4bbe-8d93-8665267f5c90                Julia Lee   \n",
       "\n",
       "    Age                    Email   Join Date    Salary   Department  \n",
       "0  25.0       xlopez@hotmail.com  2022-03-31   88552.0        Sales  \n",
       "1  90.0          Jillian Jenkins  2022-07-07  139227.0      Support  \n",
       "2  66.0          jscottgreen.biz  2023-11-21   65550.0  Engineering  \n",
       "3  39.0       luke56gonzalez.com  2021-11-05  139932.0     SupportJ  \n",
       "4  71.0  figueroakayla@yahoo.com  2022-03-31  143456.0    Marketing  "
      ]
     },
     "execution_count": 635,
     "metadata": {},
     "output_type": "execute_result"
    }
   ],
   "source": [
    "# Handle missing values in categorical columns by filling with the mode\n",
    "categorical_columns = mdf.select_dtypes(include=['object']).columns\n",
    "mdf[categorical_columns] = mdf[categorical_columns].apply(lambda x: x.fillna(x.mode()[0]))\n",
    "\n",
    "mdf.head()\n"
   ]
  },
  {
   "cell_type": "code",
   "execution_count": 636,
   "metadata": {},
   "outputs": [
    {
     "data": {
      "text/plain": [
       "Unnamed: 0    0\n",
       "ID            0\n",
       "Name          0\n",
       "Age           0\n",
       "Email         0\n",
       "Join Date     0\n",
       "Salary        0\n",
       "Department    0\n",
       "dtype: int64"
      ]
     },
     "execution_count": 636,
     "metadata": {},
     "output_type": "execute_result"
    }
   ],
   "source": [
    "mdf.isnull().sum()"
   ]
  },
  {
   "cell_type": "markdown",
   "metadata": {},
   "source": [
    "##### 2. Remove Duplicates"
   ]
  },
  {
   "cell_type": "code",
   "execution_count": 637,
   "metadata": {},
   "outputs": [
    {
     "data": {
      "text/plain": [
       "np.int64(0)"
      ]
     },
     "execution_count": 637,
     "metadata": {},
     "output_type": "execute_result"
    }
   ],
   "source": [
    "# Drop duplicate rows\n",
    "mdf = mdf.drop_duplicates()\n",
    "mdf.duplicated().sum()"
   ]
  },
  {
   "cell_type": "code",
   "execution_count": 638,
   "metadata": {},
   "outputs": [
    {
     "data": {
      "text/plain": [
       "(8579, 8)"
      ]
     },
     "execution_count": 638,
     "metadata": {},
     "output_type": "execute_result"
    }
   ],
   "source": [
    "mdf.shape"
   ]
  },
  {
   "cell_type": "code",
   "execution_count": 639,
   "metadata": {},
   "outputs": [
    {
     "data": {
      "text/plain": [
       "Index(['SL.No', 'ID', 'Name', 'Age', 'Email', 'Join Date', 'Salary',\n",
       "       'Department'],\n",
       "      dtype='object')"
      ]
     },
     "execution_count": 639,
     "metadata": {},
     "output_type": "execute_result"
    }
   ],
   "source": [
    "# Rename the column 'unwanted: 0'\n",
    "mdf = mdf.rename(columns={'Unnamed: 0': 'SL.No'})\n",
    "mdf.columns"
   ]
  },
  {
   "cell_type": "code",
   "execution_count": 640,
   "metadata": {},
   "outputs": [
    {
     "data": {
      "text/html": [
       "<div>\n",
       "<style scoped>\n",
       "    .dataframe tbody tr th:only-of-type {\n",
       "        vertical-align: middle;\n",
       "    }\n",
       "\n",
       "    .dataframe tbody tr th {\n",
       "        vertical-align: top;\n",
       "    }\n",
       "\n",
       "    .dataframe thead th {\n",
       "        text-align: right;\n",
       "    }\n",
       "</style>\n",
       "<table border=\"1\" class=\"dataframe\">\n",
       "  <thead>\n",
       "    <tr style=\"text-align: right;\">\n",
       "      <th></th>\n",
       "      <th>SL.No</th>\n",
       "      <th>ID</th>\n",
       "      <th>Name</th>\n",
       "      <th>Age</th>\n",
       "      <th>Email</th>\n",
       "      <th>Join Date</th>\n",
       "      <th>Salary</th>\n",
       "      <th>Department</th>\n",
       "    </tr>\n",
       "  </thead>\n",
       "  <tbody>\n",
       "    <tr>\n",
       "      <th>0</th>\n",
       "      <td>1</td>\n",
       "      <td>1e407ff9-6255-489d-a0de-34135d4f74bd</td>\n",
       "      <td>Hunter Thomas</td>\n",
       "      <td>25.0</td>\n",
       "      <td>xlopez@hotmail.com</td>\n",
       "      <td>2022-03-31</td>\n",
       "      <td>88552.0</td>\n",
       "      <td>Sales</td>\n",
       "    </tr>\n",
       "    <tr>\n",
       "      <th>1</th>\n",
       "      <td>2</td>\n",
       "      <td>379f55b8-87d5-4739-a146-7400b78c24d1</td>\n",
       "      <td>Jeremy Irwin</td>\n",
       "      <td>90.0</td>\n",
       "      <td>Jillian Jenkins</td>\n",
       "      <td>2022-07-07</td>\n",
       "      <td>139227.0</td>\n",
       "      <td>Support</td>\n",
       "    </tr>\n",
       "    <tr>\n",
       "      <th>2</th>\n",
       "      <td>3</td>\n",
       "      <td>18261368-dfa1-47f0-afc6-bddf45926b07</td>\n",
       "      <td>Jennifer Hammondquickly</td>\n",
       "      <td>66.0</td>\n",
       "      <td>jscottgreen.biz</td>\n",
       "      <td>2023-11-21</td>\n",
       "      <td>65550.0</td>\n",
       "      <td>Engineering</td>\n",
       "    </tr>\n",
       "    <tr>\n",
       "      <th>3</th>\n",
       "      <td>4</td>\n",
       "      <td>ae7cf7cf-17cf-4c8b-9c44-4f61a9a238e5</td>\n",
       "      <td>Sydney Taylorso</td>\n",
       "      <td>39.0</td>\n",
       "      <td>luke56gonzalez.com</td>\n",
       "      <td>2021-11-05</td>\n",
       "      <td>139932.0</td>\n",
       "      <td>SupportJ</td>\n",
       "    </tr>\n",
       "    <tr>\n",
       "      <th>4</th>\n",
       "      <td>5</td>\n",
       "      <td>14ed3e6a-e0f5-4bbe-8d93-8665267f5c90</td>\n",
       "      <td>Julia Lee</td>\n",
       "      <td>71.0</td>\n",
       "      <td>figueroakayla@yahoo.com</td>\n",
       "      <td>2022-03-31</td>\n",
       "      <td>143456.0</td>\n",
       "      <td>Marketing</td>\n",
       "    </tr>\n",
       "  </tbody>\n",
       "</table>\n",
       "</div>"
      ],
      "text/plain": [
       "   SL.No                                    ID                     Name   Age  \\\n",
       "0      1  1e407ff9-6255-489d-a0de-34135d4f74bd            Hunter Thomas  25.0   \n",
       "1      2  379f55b8-87d5-4739-a146-7400b78c24d1             Jeremy Irwin  90.0   \n",
       "2      3  18261368-dfa1-47f0-afc6-bddf45926b07  Jennifer Hammondquickly  66.0   \n",
       "3      4  ae7cf7cf-17cf-4c8b-9c44-4f61a9a238e5          Sydney Taylorso  39.0   \n",
       "4      5  14ed3e6a-e0f5-4bbe-8d93-8665267f5c90                Julia Lee  71.0   \n",
       "\n",
       "                     Email   Join Date    Salary   Department  \n",
       "0       xlopez@hotmail.com  2022-03-31   88552.0        Sales  \n",
       "1          Jillian Jenkins  2022-07-07  139227.0      Support  \n",
       "2          jscottgreen.biz  2023-11-21   65550.0  Engineering  \n",
       "3       luke56gonzalez.com  2021-11-05  139932.0     SupportJ  \n",
       "4  figueroakayla@yahoo.com  2022-03-31  143456.0    Marketing  "
      ]
     },
     "execution_count": 640,
     "metadata": {},
     "output_type": "execute_result"
    }
   ],
   "source": [
    "# Add Serial Number (starting from 1)\n",
    "mdf['SL.No'] = range(1, len(mdf) + 1)\n",
    "\n",
    "mdf.head(5)"
   ]
  },
  {
   "cell_type": "code",
   "execution_count": 641,
   "metadata": {},
   "outputs": [
    {
     "data": {
      "text/plain": [
       "SL.No           int64\n",
       "ID             object\n",
       "Name           object\n",
       "Age           float64\n",
       "Email          object\n",
       "Join Date      object\n",
       "Salary        float64\n",
       "Department     object\n",
       "dtype: object"
      ]
     },
     "execution_count": 641,
     "metadata": {},
     "output_type": "execute_result"
    }
   ],
   "source": [
    "# checking for data types\n",
    "mdf.dtypes"
   ]
  },
  {
   "cell_type": "code",
   "execution_count": 642,
   "metadata": {},
   "outputs": [],
   "source": [
    "# Convert 'Age' column to nullable integer, handling non-integer values\n",
    "mdf['Age'] = mdf['Age'].astype('float').round().astype('Int64')\n",
    "\n",
    "# Convert Salary to integer\n",
    "mdf['Salary'] = mdf['Salary'].astype('float').round().astype('Int64')\n"
   ]
  },
  {
   "cell_type": "code",
   "execution_count": 643,
   "metadata": {},
   "outputs": [
    {
     "data": {
      "text/plain": [
       "SL.No                  int64\n",
       "ID                    object\n",
       "Name                  object\n",
       "Age                    Int64\n",
       "Email                 object\n",
       "Join Date     datetime64[ns]\n",
       "Salary                 Int64\n",
       "Department            object\n",
       "dtype: object"
      ]
     },
     "execution_count": 643,
     "metadata": {},
     "output_type": "execute_result"
    }
   ],
   "source": [
    "# Convert Join Date to datetime\n",
    "mdf['Join Date'] = pd.to_datetime(mdf['Join Date'], errors='coerce')  \n",
    "\n",
    "mdf.dtypes"
   ]
  },
  {
   "cell_type": "markdown",
   "metadata": {},
   "source": [
    "##### Correction of Email Formats"
   ]
  },
  {
   "cell_type": "code",
   "execution_count": 644,
   "metadata": {},
   "outputs": [
    {
     "data": {
      "text/plain": [
       "0         xlopez@hotmail.com\n",
       "1                    Invalid\n",
       "2                    Invalid\n",
       "3                    Invalid\n",
       "4    figueroakayla@yahoo.com\n",
       "Name: Email, dtype: object"
      ]
     },
     "execution_count": 644,
     "metadata": {},
     "output_type": "execute_result"
    }
   ],
   "source": [
    "# Define a pattern for a valid email\n",
    "email_pattern = r'^[a-zA-Z0-9._%+-]+@[a-zA-Z0-9.-]+\\.[a-zA-Z]{2,}$'\n",
    "\n",
    "# Create a function to validate email\n",
    "def validate_email(email):\n",
    "    if re.match(email_pattern, email):\n",
    "        return email  # Return email if it's valid\n",
    "    else:\n",
    "        return \"Invalid\"  # Mark as 'Invalid' if it doesn't match the pattern\n",
    "\n",
    "# Apply the function to the Email column\n",
    "mdf['Email'] = mdf['Email'].apply(validate_email)\n",
    "\n",
    "mdf['Email'].head(5)"
   ]
  },
  {
   "cell_type": "code",
   "execution_count": 645,
   "metadata": {},
   "outputs": [
    {
     "data": {
      "text/plain": [
       "0               xlopez@hotmail.com\n",
       "4          figueroakayla@yahoo.com\n",
       "5     milleryvonne@fowler-york.com\n",
       "9         denisemaynard@jordan.com\n",
       "10      gerald47@woodard-smith.com\n",
       "Name: Email, dtype: object"
      ]
     },
     "execution_count": 645,
     "metadata": {},
     "output_type": "execute_result"
    }
   ],
   "source": [
    "# Remove rows with invalid emails\n",
    "mdf = mdf[mdf['Email'] != \"Invalid\"]\n",
    "\n",
    "mdf['Email'].head(5)"
   ]
  },
  {
   "cell_type": "markdown",
   "metadata": {},
   "source": [
    "##### Clean Name Fields:"
   ]
  },
  {
   "cell_type": "code",
   "execution_count": 646,
   "metadata": {},
   "outputs": [],
   "source": [
    "# Remove any noise from names by trimming and capitalizing them consistently\n",
    "mdf['Name'] = mdf['Name'].str.replace(r'\\d+', '', regex=True).str.strip().str.title()"
   ]
  },
  {
   "cell_type": "markdown",
   "metadata": {},
   "source": [
    "##### Standardize Date Formats:"
   ]
  },
  {
   "cell_type": "code",
   "execution_count": 647,
   "metadata": {},
   "outputs": [
    {
     "data": {
      "text/html": [
       "<div>\n",
       "<style scoped>\n",
       "    .dataframe tbody tr th:only-of-type {\n",
       "        vertical-align: middle;\n",
       "    }\n",
       "\n",
       "    .dataframe tbody tr th {\n",
       "        vertical-align: top;\n",
       "    }\n",
       "\n",
       "    .dataframe thead th {\n",
       "        text-align: right;\n",
       "    }\n",
       "</style>\n",
       "<table border=\"1\" class=\"dataframe\">\n",
       "  <thead>\n",
       "    <tr style=\"text-align: right;\">\n",
       "      <th></th>\n",
       "      <th>SL.No</th>\n",
       "      <th>ID</th>\n",
       "      <th>Name</th>\n",
       "      <th>Age</th>\n",
       "      <th>Email</th>\n",
       "      <th>Join Date</th>\n",
       "      <th>Salary</th>\n",
       "      <th>Department</th>\n",
       "    </tr>\n",
       "  </thead>\n",
       "  <tbody>\n",
       "    <tr>\n",
       "      <th>0</th>\n",
       "      <td>1</td>\n",
       "      <td>1e407ff9-6255-489d-a0de-34135d4f74bd</td>\n",
       "      <td>Hunter Thomas</td>\n",
       "      <td>25</td>\n",
       "      <td>xlopez@hotmail.com</td>\n",
       "      <td>2022-03-31</td>\n",
       "      <td>88552</td>\n",
       "      <td>Sales</td>\n",
       "    </tr>\n",
       "    <tr>\n",
       "      <th>4</th>\n",
       "      <td>5</td>\n",
       "      <td>14ed3e6a-e0f5-4bbe-8d93-8665267f5c90</td>\n",
       "      <td>Julia Lee</td>\n",
       "      <td>71</td>\n",
       "      <td>figueroakayla@yahoo.com</td>\n",
       "      <td>2022-03-31</td>\n",
       "      <td>143456</td>\n",
       "      <td>Marketing</td>\n",
       "    </tr>\n",
       "    <tr>\n",
       "      <th>9</th>\n",
       "      <td>9</td>\n",
       "      <td>d06f507d-62e5-4bd6-a252-4e60e109d324</td>\n",
       "      <td>Jay Fisher</td>\n",
       "      <td>44</td>\n",
       "      <td>denisemaynard@jordan.com</td>\n",
       "      <td>2022-12-08</td>\n",
       "      <td>37702</td>\n",
       "      <td>HR</td>\n",
       "    </tr>\n",
       "    <tr>\n",
       "      <th>10</th>\n",
       "      <td>10</td>\n",
       "      <td>d5fe9321-49cf-4f14-ac96-7aea1204247b</td>\n",
       "      <td>Craig Conway</td>\n",
       "      <td>88</td>\n",
       "      <td>gerald47@woodard-smith.com</td>\n",
       "      <td>2022-03-31</td>\n",
       "      <td>81215</td>\n",
       "      <td>Engineering</td>\n",
       "    </tr>\n",
       "    <tr>\n",
       "      <th>12</th>\n",
       "      <td>12</td>\n",
       "      <td>da63d159-e9b0-4b92-b0fe-4e87df3aebc1</td>\n",
       "      <td>Amber Marsh</td>\n",
       "      <td>23</td>\n",
       "      <td>robert43@gmail.com</td>\n",
       "      <td>2023-09-08</td>\n",
       "      <td>112970</td>\n",
       "      <td>Engineering</td>\n",
       "    </tr>\n",
       "  </tbody>\n",
       "</table>\n",
       "</div>"
      ],
      "text/plain": [
       "    SL.No                                    ID           Name  Age  \\\n",
       "0       1  1e407ff9-6255-489d-a0de-34135d4f74bd  Hunter Thomas   25   \n",
       "4       5  14ed3e6a-e0f5-4bbe-8d93-8665267f5c90      Julia Lee   71   \n",
       "9       9  d06f507d-62e5-4bd6-a252-4e60e109d324     Jay Fisher   44   \n",
       "10     10  d5fe9321-49cf-4f14-ac96-7aea1204247b   Craig Conway   88   \n",
       "12     12  da63d159-e9b0-4b92-b0fe-4e87df3aebc1    Amber Marsh   23   \n",
       "\n",
       "                         Email  Join Date  Salary   Department  \n",
       "0           xlopez@hotmail.com 2022-03-31   88552        Sales  \n",
       "4      figueroakayla@yahoo.com 2022-03-31  143456    Marketing  \n",
       "9     denisemaynard@jordan.com 2022-12-08   37702           HR  \n",
       "10  gerald47@woodard-smith.com 2022-03-31   81215  Engineering  \n",
       "12          robert43@gmail.com 2023-09-08  112970  Engineering  "
      ]
     },
     "execution_count": 647,
     "metadata": {},
     "output_type": "execute_result"
    }
   ],
   "source": [
    "# Convert 'Join Date' to a consistent date format\n",
    "mdf['Join Date'] = pd.to_datetime(mdf['Join Date'], format='%Y-%m-%d', errors='coerce')\n",
    "\n",
    "# Drop rows where the date format is invalid\n",
    "mdf = mdf.dropna(subset=['Join Date'])\n",
    "\n",
    "mdf.head()"
   ]
  },
  {
   "cell_type": "markdown",
   "metadata": {},
   "source": [
    "##### Correct Department Names:"
   ]
  },
  {
   "cell_type": "code",
   "execution_count": 648,
   "metadata": {},
   "outputs": [
    {
     "data": {
      "text/plain": [
       "array(['Sales', 'Marketing', 'HR', 'Engineering', 'SalesA', 'MarketingR',\n",
       "       'Salesw', 'SalesK', 'MarketingU', 'Support', 'EngineeringL', 'HRs',\n",
       "       'Supportj', 'Salesd', 'SalesZ', 'Engineeringe', 'Marketingr',\n",
       "       'Engineeringm', 'Saleso', 'SalesW', 'Engineeringp', 'HRv',\n",
       "       'SalesC', 'SupportC', 'EngineeringK', 'SalesN', 'SupportB', 'HRi',\n",
       "       'Supportg', 'Supporta', 'HRn', 'Supportm', 'EngineeringH',\n",
       "       'Marketingw', 'EngineeringM', 'HRr', 'MarketingD', 'HRE', 'HRw',\n",
       "       'Supportk', 'SupportS', 'EngineeringD', 'Marketingz', 'Salesl',\n",
       "       'Salesr', 'MarketingO', 'SalesF', 'Salesz', 'Marketingt',\n",
       "       'Engineeringv', 'HRL', 'HRI', 'Marketingk', 'Engineeringi',\n",
       "       'Salesn', 'Engineeringl', 'SalesE', 'HRy', 'SalesD', 'HRm', 'HRz',\n",
       "       'MarketingG', 'Marketingn', 'Engineeringg', 'MarketingE',\n",
       "       'SupportA', 'Engineeringq', 'EngineeringQ', 'Supporte',\n",
       "       'Engineeringu', 'EngineeringO', 'Supportv', 'HRK', 'Engineeringb',\n",
       "       'SalesV', 'HRT', 'SupportY', 'MarketingX', 'MarketingQ', 'Salesy',\n",
       "       'HRU', 'HRt', 'HRp', 'HRg', 'SalesS', 'HRo', 'Engineeringt',\n",
       "       'EngineeringX', 'Engineeringc', 'Marketingh', 'MarketingF',\n",
       "       'EngineeringC', 'HRP', 'Salesv', 'Engineeringk', 'SupportH', 'HRW',\n",
       "       'Salesk', 'Supporth', 'Supportq', 'Salesi', 'HRZ', 'SupportJ',\n",
       "       'Marketingl', 'MarketingZ', 'Salesc', 'EngineeringT', 'Salesq',\n",
       "       'Engineeringh', 'Supportl', 'Supportp', 'SupportQ', 'Marketinge',\n",
       "       'EngineeringG', 'SalesH', 'SupportV', 'Marketingb', 'Supporti',\n",
       "       'HRM', 'Supportt', 'EngineeringE', 'SupportP', 'HRf', 'MarketingB',\n",
       "       'HRJ', 'Engineeringf', 'SalesM', 'HRA', 'Marketingj', 'MarketingV',\n",
       "       'MarketingN', 'HRl', 'MarketingC', 'Marketingi', 'Supportw',\n",
       "       'Engineerings', 'Supportb', 'SupportL', 'Marketingf', 'Marketingg',\n",
       "       'SupportK', 'Engineeringd', 'HRN', 'HRk', 'SalesR', 'MarketingS',\n",
       "       'MarketingL', 'MarketingT', 'HRR', 'Engineeringw', 'Salesg', 'HRB',\n",
       "       'Engineeringz', 'EngineeringV', 'HRb', 'SupportN', 'SupportO',\n",
       "       'SalesX', 'EngineeringZ', 'SupportG', 'Engineeringx', 'Marketingc',\n",
       "       'EngineeringU', 'MarketingJ', 'Supportx', 'SalesB', 'Salesp',\n",
       "       'HRX', 'SalesY', 'MarketingK', 'SalesL', 'Marketingq', 'SupportD',\n",
       "       'Salesu', 'SalesT', 'Supports', 'HRQ', 'Supportr', 'Engineeringr',\n",
       "       'EngineeringW', 'Saless', 'HRC', 'HRY', 'SupportW', 'EngineeringI',\n",
       "       'Marketingy', 'MarketingM', 'SupportI', 'EngineeringF', 'HRF',\n",
       "       'SalesU', 'EngineeringJ', 'Engineeringa', 'SupportU', 'Salesa',\n",
       "       'Supportn', 'Salesf', 'MarketingY', 'HRd', 'Salest', 'Salesj',\n",
       "       'HRu', 'Salesh', 'SalesI', 'SupportX', 'HRD', 'SupportE', 'HRj',\n",
       "       'HRe', 'Supporto', 'MarketingH', 'Marketingx', 'EngineeringN',\n",
       "       'SupportM', 'HRV', 'HRa', 'Salese', 'HRG', 'SalesP',\n",
       "       'EngineeringR', 'Marketingv', 'HRx', 'Engineeringn',\n",
       "       'Engineeringj', 'EngineeringS', 'EngineeringP', 'Engineeringy',\n",
       "       'SalesO', 'Salesm', 'Marketingd', 'SalesJ', 'SupportF', 'SupportT',\n",
       "       'Supportc', 'HRq', 'Marketinga', 'Marketings', 'HRh', 'Marketingp',\n",
       "       'SupportR', 'HRH', 'MarketingW', 'Supporty', 'HRc', 'EngineeringA',\n",
       "       'Supportf', 'Marketingu', 'SupportZ', 'Marketingm', 'Supportz',\n",
       "       'Supportu', 'SalesG', 'EngineeringB', 'SalesQ', 'Salesb', 'HRS',\n",
       "       'Supportd', 'MarketingI', 'Engineeringo', 'HRO'], dtype=object)"
      ]
     },
     "execution_count": 648,
     "metadata": {},
     "output_type": "execute_result"
    }
   ],
   "source": [
    "mdf['Department'].unique()"
   ]
  },
  {
   "cell_type": "code",
   "execution_count": 649,
   "metadata": {},
   "outputs": [
    {
     "name": "stdout",
     "output_type": "stream",
     "text": [
      "Total unique departments: 260\n"
     ]
    }
   ],
   "source": [
    "unique_department_count = mdf['Department'].nunique()\n",
    "print(f'Total unique departments: {unique_department_count}')\n"
   ]
  },
  {
   "cell_type": "code",
   "execution_count": 650,
   "metadata": {},
   "outputs": [],
   "source": [
    "# Define a function to standardize department names\n",
    "def correct_department(dept):\n",
    "    if 'HR' in dept:\n",
    "        return 'HR'\n",
    "    elif 'Engineering' in dept:\n",
    "        return 'Engineering'\n",
    "    elif 'Sales' in dept:\n",
    "        return 'Sales'\n",
    "    elif 'Support' in dept:\n",
    "        return 'Support'\n",
    "    elif 'Marketing' in dept:\n",
    "        return 'Marketing'\n",
    "    else:\n",
    "        return 'Unknown'\n",
    "\n",
    "# Apply the correction function\n",
    "mdf['Department'] = mdf['Department'].apply(correct_department)"
   ]
  },
  {
   "cell_type": "code",
   "execution_count": 651,
   "metadata": {},
   "outputs": [
    {
     "data": {
      "text/plain": [
       "array(['Sales', 'Marketing', 'HR', 'Engineering', 'Support'], dtype=object)"
      ]
     },
     "execution_count": 651,
     "metadata": {},
     "output_type": "execute_result"
    }
   ],
   "source": [
    "mdf['Department'].unique()"
   ]
  },
  {
   "cell_type": "markdown",
   "metadata": {},
   "source": [
    "##### Handle Salary Noise"
   ]
  },
  {
   "cell_type": "code",
   "execution_count": 652,
   "metadata": {},
   "outputs": [
    {
     "data": {
      "text/html": [
       "<div>\n",
       "<style scoped>\n",
       "    .dataframe tbody tr th:only-of-type {\n",
       "        vertical-align: middle;\n",
       "    }\n",
       "\n",
       "    .dataframe tbody tr th {\n",
       "        vertical-align: top;\n",
       "    }\n",
       "\n",
       "    .dataframe thead th {\n",
       "        text-align: right;\n",
       "    }\n",
       "</style>\n",
       "<table border=\"1\" class=\"dataframe\">\n",
       "  <thead>\n",
       "    <tr style=\"text-align: right;\">\n",
       "      <th></th>\n",
       "      <th>SL.No</th>\n",
       "      <th>ID</th>\n",
       "      <th>Name</th>\n",
       "      <th>Age</th>\n",
       "      <th>Email</th>\n",
       "      <th>Join Date</th>\n",
       "      <th>Salary</th>\n",
       "      <th>Department</th>\n",
       "    </tr>\n",
       "  </thead>\n",
       "  <tbody>\n",
       "    <tr>\n",
       "      <th>0</th>\n",
       "      <td>1</td>\n",
       "      <td>1e407ff9-6255-489d-a0de-34135d4f74bd</td>\n",
       "      <td>Hunter Thomas</td>\n",
       "      <td>25</td>\n",
       "      <td>xlopez@hotmail.com</td>\n",
       "      <td>2022-03-31</td>\n",
       "      <td>88552</td>\n",
       "      <td>Sales</td>\n",
       "    </tr>\n",
       "    <tr>\n",
       "      <th>4</th>\n",
       "      <td>5</td>\n",
       "      <td>14ed3e6a-e0f5-4bbe-8d93-8665267f5c90</td>\n",
       "      <td>Julia Lee</td>\n",
       "      <td>71</td>\n",
       "      <td>figueroakayla@yahoo.com</td>\n",
       "      <td>2022-03-31</td>\n",
       "      <td>143456</td>\n",
       "      <td>Marketing</td>\n",
       "    </tr>\n",
       "    <tr>\n",
       "      <th>9</th>\n",
       "      <td>9</td>\n",
       "      <td>d06f507d-62e5-4bd6-a252-4e60e109d324</td>\n",
       "      <td>Jay Fisher</td>\n",
       "      <td>44</td>\n",
       "      <td>denisemaynard@jordan.com</td>\n",
       "      <td>2022-12-08</td>\n",
       "      <td>37702</td>\n",
       "      <td>HR</td>\n",
       "    </tr>\n",
       "    <tr>\n",
       "      <th>10</th>\n",
       "      <td>10</td>\n",
       "      <td>d5fe9321-49cf-4f14-ac96-7aea1204247b</td>\n",
       "      <td>Craig Conway</td>\n",
       "      <td>88</td>\n",
       "      <td>gerald47@woodard-smith.com</td>\n",
       "      <td>2022-03-31</td>\n",
       "      <td>81215</td>\n",
       "      <td>Engineering</td>\n",
       "    </tr>\n",
       "    <tr>\n",
       "      <th>12</th>\n",
       "      <td>12</td>\n",
       "      <td>da63d159-e9b0-4b92-b0fe-4e87df3aebc1</td>\n",
       "      <td>Amber Marsh</td>\n",
       "      <td>23</td>\n",
       "      <td>robert43@gmail.com</td>\n",
       "      <td>2023-09-08</td>\n",
       "      <td>112970</td>\n",
       "      <td>Engineering</td>\n",
       "    </tr>\n",
       "  </tbody>\n",
       "</table>\n",
       "</div>"
      ],
      "text/plain": [
       "    SL.No                                    ID           Name  Age  \\\n",
       "0       1  1e407ff9-6255-489d-a0de-34135d4f74bd  Hunter Thomas   25   \n",
       "4       5  14ed3e6a-e0f5-4bbe-8d93-8665267f5c90      Julia Lee   71   \n",
       "9       9  d06f507d-62e5-4bd6-a252-4e60e109d324     Jay Fisher   44   \n",
       "10     10  d5fe9321-49cf-4f14-ac96-7aea1204247b   Craig Conway   88   \n",
       "12     12  da63d159-e9b0-4b92-b0fe-4e87df3aebc1    Amber Marsh   23   \n",
       "\n",
       "                         Email  Join Date  Salary   Department  \n",
       "0           xlopez@hotmail.com 2022-03-31   88552        Sales  \n",
       "4      figueroakayla@yahoo.com 2022-03-31  143456    Marketing  \n",
       "9     denisemaynard@jordan.com 2022-12-08   37702           HR  \n",
       "10  gerald47@woodard-smith.com 2022-03-31   81215  Engineering  \n",
       "12          robert43@gmail.com 2023-09-08  112970  Engineering  "
      ]
     },
     "execution_count": 652,
     "metadata": {},
     "output_type": "execute_result"
    }
   ],
   "source": [
    "# Remove salaries outside the reasonable range\n",
    "salary_data = mdf[(mdf['Salary'] >= 30000) & (mdf['Salary'] <= 200000)]\n",
    "\n",
    "# Round salary values to whole numbers\n",
    "salary_data = salary_data.assign(Salary= salary_data['Salary'].round(0).astype(int))\n",
    "\n",
    "# Identify outliers using IQR\n",
    "Q1 = salary_data['Salary'].quantile(0.25)\n",
    "Q3 = salary_data['Salary'].quantile(0.75)\n",
    "IQR = Q3 - Q1\n",
    "\n",
    "# Remove outliers\n",
    "salary_data = salary_data[~((salary_data['Salary'] < (Q1 - 1.5 * IQR)) | (salary_data['Salary'] > (Q3 + 1.5 * IQR)))]\n",
    "\n",
    "mdf.head()"
   ]
  },
  {
   "cell_type": "code",
   "execution_count": 653,
   "metadata": {},
   "outputs": [],
   "source": [
    "#cleaned DataFrame\n",
    "mdf= mdf.to_csv('cleaned_dataset.csv', index=False)"
   ]
  },
  {
   "cell_type": "markdown",
   "metadata": {},
   "source": [
    "### Data Cleaning Steps Summary\n",
    "\n",
    "1. **Missing Values**:\n",
    "   - Removed rows without names.\n",
    "   - Filled missing numbers with the average and categories with the most common value.\n",
    "\n",
    "2. **Duplicates**:\n",
    "   - Dropped duplicate rows and renamed a column for clarity.\n",
    "\n",
    "3. **Data Types**:\n",
    "   - Changed 'Age' and 'Salary' to integers and 'Join Date' to a date format.\n",
    "\n",
    "4. **Email Validation**:\n",
    "   - Checked and removed emails that were not properly formatted.\n",
    "\n",
    "5. **Name Cleaning**:\n",
    "   - Removed numbers and standardized names.\n",
    "\n",
    "6. **Date Standardization**:\n",
    "   - Ensured all dates were in the same format.\n",
    "\n",
    "7. **Department Correction**:\n",
    "   - Fixed inconsistencies in department names.\n",
    "\n",
    "8. **Salary Handling**:\n",
    "   - Removed unreasonable salaries and outliers.\n",
    "\n",
    "This process ensured the data is clean and ready for analysis."
   ]
  }
 ],
 "metadata": {
  "kernelspec": {
   "display_name": "Python 3",
   "language": "python",
   "name": "python3"
  },
  "language_info": {
   "codemirror_mode": {
    "name": "ipython",
    "version": 3
   },
   "file_extension": ".py",
   "mimetype": "text/x-python",
   "name": "python",
   "nbconvert_exporter": "python",
   "pygments_lexer": "ipython3",
   "version": "3.12.6"
  }
 },
 "nbformat": 4,
 "nbformat_minor": 2
}
